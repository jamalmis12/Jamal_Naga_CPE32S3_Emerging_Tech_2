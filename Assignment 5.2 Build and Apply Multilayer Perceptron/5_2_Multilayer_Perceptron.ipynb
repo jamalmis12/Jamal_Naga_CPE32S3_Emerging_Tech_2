{
  "nbformat": 4,
  "nbformat_minor": 0,
  "metadata": {
    "colab": {
      "provenance": []
    },
    "kernelspec": {
      "name": "python3",
      "display_name": "Python 3"
    },
    "language_info": {
      "name": "python"
    }
  },
  "cells": [
    {
      "cell_type": "markdown",
      "source": [
        "Technological Institute of the Philippines | Quezon City - Computer Engineering\n",
        "--- | ---\n",
        "Course Code: | CPE 019\n",
        "Code Title: | Emerging Technologies in CpE 2\n",
        "2nd Semester | AY 2023-2024\n",
        "<hr> | <hr>\n",
        "**Activity**:|Assignment 5.2: Build and Apply Multilayer Perceptron**\n",
        "<hr> | <hr>\n",
        "**Name**         | Naga, Jamal\n",
        "**Section** | CPE32S3\n",
        "**Date Performed**: |March 25, 2024\n",
        "**Date Submitted**: |March 26, 2024\n",
        "**Instructor**: | Engr. Roman Richard\n",
        "<hr> | <hr>\n"
      ],
      "metadata": {
        "id": "dlRas53wQEFK"
      }
    },
    {
      "cell_type": "markdown",
      "source": [
        "\n",
        "\n",
        "---\n",
        "\n"
      ],
      "metadata": {
        "id": "rHcDIA5J--ec"
      }
    },
    {
      "cell_type": "markdown",
      "source": [
        "## Choose any dataset\n",
        "\n",
        "\n",
        "*   Banknote Authentication\n",
        "*   Lohweg,Volker. (2013). Banknote Authentication. UCI Machine Learning Repository. https://doi.org/10.24432/C55P57.\n",
        "\n",
        "\n",
        "---\n",
        "\n",
        "\n",
        "\n",
        "\n"
      ],
      "metadata": {
        "id": "WyYV1TXsEjwr"
      }
    },
    {
      "cell_type": "markdown",
      "source": [
        "## Explain the problem you are trying to solve\n",
        "\n",
        "\n",
        "* To predict whether a banknote is genuine or counterfeit based on the extracted features from its image. This problem is a binary classification type where the model aims to classify banknotes as either genuine or counterfeit based on their statistical properties.\n",
        "\n",
        "\n",
        "---\n",
        "\n",
        "\n",
        "\n",
        "\n",
        "\n"
      ],
      "metadata": {
        "id": "PCZ6wnbgFXRj"
      }
    },
    {
      "cell_type": "code",
      "source": [
        "# Imports the needed libraries\n",
        "import pandas as pd\n",
        "import numpy as np\n",
        "import seaborn as sns\n",
        "from sklearn.model_selection import train_test_split\n",
        "import tensorflow as tf\n",
        "import matplotlib.pyplot as plt"
      ],
      "metadata": {
        "id": "VilYIgGMQTAN"
      },
      "execution_count": 1,
      "outputs": []
    },
    {
      "cell_type": "code",
      "source": [
        "# Load the dataset without considering the first row as header\n",
        "bn_auth = pd.read_csv('/content/data_banknote_authentication.csv')\n",
        "print(bn_auth.info())"
      ],
      "metadata": {
        "colab": {
          "base_uri": "https://localhost:8080/"
        },
        "id": "E5Q5tdN-DeHz",
        "outputId": "aea0ff5b-603c-43fd-dd22-460748e2869f"
      },
      "execution_count": 344,
      "outputs": [
        {
          "output_type": "stream",
          "name": "stdout",
          "text": [
            "<class 'pandas.core.frame.DataFrame'>\n",
            "RangeIndex: 1371 entries, 0 to 1370\n",
            "Data columns (total 5 columns):\n",
            " #   Column    Non-Null Count  Dtype  \n",
            "---  ------    --------------  -----  \n",
            " 0   3.6216    1371 non-null   float64\n",
            " 1   8.6661    1371 non-null   float64\n",
            " 2   -2.8073   1371 non-null   float64\n",
            " 3   -0.44699  1371 non-null   float64\n",
            " 4   0         1371 non-null   int64  \n",
            "dtypes: float64(4), int64(1)\n",
            "memory usage: 53.7 KB\n",
            "None\n"
          ]
        }
      ]
    },
    {
      "cell_type": "markdown",
      "source": [
        "**Observation**: Upon checking the dataset I noticed that the title of each columns are erased or missing."
      ],
      "metadata": {
        "id": "6GZDRx4bOQ6S"
      }
    },
    {
      "cell_type": "markdown",
      "source": [
        "## Preprocessing the data"
      ],
      "metadata": {
        "id": "WV8uGHd1ChA7"
      }
    },
    {
      "cell_type": "code",
      "source": [
        "# Copy the dataset and add header = None\n",
        "bn_auth = pd.read_csv('/content/data_banknote_authentication.csv', header=None)\n",
        "\n",
        "# Add header columns named with these 5 variables\n",
        "bn_auth.columns = [\"variance\", \"skewness\", \"curtosis\", \"entropy\", \"class\"] + list(bn_auth.columns[5:])\n",
        "\n",
        "# Display the updated DataFrame\n",
        "print(bn_auth.head(20))"
      ],
      "metadata": {
        "colab": {
          "base_uri": "https://localhost:8080/"
        },
        "id": "4aFQ9ja9NZAK",
        "outputId": "91bb1fc4-75f3-4cf1-c68f-435fc5b1d2b5"
      },
      "execution_count": 345,
      "outputs": [
        {
          "output_type": "stream",
          "name": "stdout",
          "text": [
            "    variance  skewness  curtosis  entropy  class\n",
            "0    3.62160    8.6661  -2.80730 -0.44699      0\n",
            "1    4.54590    8.1674  -2.45860 -1.46210      0\n",
            "2    3.86600   -2.6383   1.92420  0.10645      0\n",
            "3    3.45660    9.5228  -4.01120 -3.59440      0\n",
            "4    0.32924   -4.4552   4.57180 -0.98880      0\n",
            "5    4.36840    9.6718  -3.96060 -3.16250      0\n",
            "6    3.59120    3.0129   0.72888  0.56421      0\n",
            "7    2.09220   -6.8100   8.46360 -0.60216      0\n",
            "8    3.20320    5.7588  -0.75345 -0.61251      0\n",
            "9    1.53560    9.1772  -2.27180 -0.73535      0\n",
            "10   1.22470    8.7779  -2.21350 -0.80647      0\n",
            "11   3.98990   -2.7066   2.39460  0.86291      0\n",
            "12   1.89930    7.6625   0.15394 -3.11080      0\n",
            "13  -1.57680   10.8430   2.54620 -2.93620      0\n",
            "14   3.40400    8.7261  -2.99150 -0.57242      0\n",
            "15   4.67650   -3.3895   3.48960  1.47710      0\n",
            "16   2.67190    3.0646   0.37158  0.58619      0\n",
            "17   0.80355    2.8473   4.34390  0.60170      0\n",
            "18   1.44790   -4.8794   8.34280 -2.10860      0\n",
            "19   5.24230   11.0272  -4.35300 -4.10130      0\n"
          ]
        }
      ]
    },
    {
      "cell_type": "markdown",
      "source": [
        "**Observation:** I set the header as None and I added 5 header titles such as variance, skewness, curtosis, entropy, and class."
      ],
      "metadata": {
        "id": "38nZGqdCPNGc"
      }
    },
    {
      "cell_type": "code",
      "source": [
        "# Calculate the correlation matrix\n",
        "correlation_matrix = bn_auth.corr()\n",
        "\n",
        "# Plot the correlation matrix using Seaborn's heatmap\n",
        "plt.figure(figsize=(10, 8))\n",
        "sns.heatmap(correlation_matrix, annot=True, cmap='cool', fmt=\".2f\")\n",
        "plt.title('Variables Correlation')\n",
        "plt.show()"
      ],
      "metadata": {
        "colab": {
          "base_uri": "https://localhost:8080/",
          "height": 699
        },
        "id": "7x2TgcaBXRrD",
        "outputId": "7d51d358-cbae-4d91-eb2f-f87f8c510aa7"
      },
      "execution_count": 346,
      "outputs": [
        {
          "output_type": "display_data",
          "data": {
            "text/plain": [
              "<Figure size 1000x800 with 2 Axes>"
            ],
            "image/png": "[encoded data removed]"
          },
          "metadata": {}
        }
      ]
    },
    {
      "cell_type": "markdown",
      "source": [
        "**Observation:** Upon searching for training a multilayer perceptron network, we would typically need a dataset that is linearly separable since perceptrons are only capable of learning linear decision boundaries. The correlation between the variables in the provided dataset appears to be non-linear, as evidenced by the low correlation values."
      ],
      "metadata": {
        "id": "uAyAQTnCXVMa"
      }
    },
    {
      "cell_type": "code",
      "source": [
        "# Select independent and dependent variable\n",
        "X = bn_auth.drop(['class'], axis=1)\n",
        "y = bn_auth['class']"
      ],
      "metadata": {
        "id": "lTAO3qM0G-Vm"
      },
      "execution_count": 347,
      "outputs": []
    },
    {
      "cell_type": "code",
      "source": [
        "# Split the data into training, validation, and test sets\n",
        "X_train, X_test, y_train, y_test = train_test_split(X, y, test_size=0.3, random_state=42)\n",
        "X_train, X_val, y_train, y_val = train_test_split(X_train, y_train, test_size=0.3, random_state=42)"
      ],
      "metadata": {
        "id": "7JapeWU4ZC8z"
      },
      "execution_count": 348,
      "outputs": []
    },
    {
      "cell_type": "code",
      "source": [
        "X_train.shape"
      ],
      "metadata": {
        "colab": {
          "base_uri": "https://localhost:8080/"
        },
        "id": "f4hptG4BPMSi",
        "outputId": "5b2abb7c-e1ba-4d06-911c-32a8bf842c41"
      },
      "execution_count": 198,
      "outputs": [
        {
          "output_type": "execute_result",
          "data": {
            "text/plain": [
              "(877, 4)"
            ]
          },
          "metadata": {},
          "execution_count": 198
        }
      ]
    },
    {
      "cell_type": "markdown",
      "source": [
        "## Create your own model"
      ],
      "metadata": {
        "id": "pn8AhDdOCyrb"
      }
    },
    {
      "cell_type": "code",
      "source": [
        "# Create a sequential model\n",
        "model = tf.keras.Sequential([\n",
        "    tf.keras.layers.Dense(units=4, input_dim=4),\n",
        "    tf.keras.layers.Dense(32, activation='relu'),\n",
        "    tf.keras.layers.Dropout(rate=0.2),\n",
        "    tf.keras.layers.Dense(1, activation='sigmoid')\n",
        "])"
      ],
      "metadata": {
        "id": "8eE-0dKhQj5B"
      },
      "execution_count": 349,
      "outputs": []
    },
    {
      "cell_type": "code",
      "source": [
        "# Compile the model\n",
        "model.compile(optimizer='adam', loss='binary_crossentropy',  metrics=['accuracy'])"
      ],
      "metadata": {
        "id": "QilihNpNJsyO"
      },
      "execution_count": 350,
      "outputs": []
    },
    {
      "cell_type": "markdown",
      "source": [
        "## Evaluate the accuracy of your model"
      ],
      "metadata": {
        "id": "rCI-drqADEqD"
      }
    },
    {
      "cell_type": "code",
      "source": [
        "# Model Training\n",
        "model.fit(X_train, y_train, epochs=10, validation_data=(X_val, y_val))\n",
        "\n",
        "# Model Evaluation\n",
        "test_loss, test_accuracy = model.evaluate(X_test, y_test)\n",
        "print(\"Test Loss:\", test_loss)\n",
        "print(\"Test Accuracy:\", test_accuracy)"
      ],
      "metadata": {
        "colab": {
          "base_uri": "https://localhost:8080/"
        },
        "id": "nJx7pKB2yog_",
        "outputId": "04fc9a11-db68-4f7b-cd24-b7fff6b8582f"
      },
      "execution_count": 351,
      "outputs": [
        {
          "output_type": "stream",
          "name": "stdout",
          "text": [
            "Epoch 1/10\n",
            "21/21 [==============================] - 1s 11ms/step - loss: 2.0011 - accuracy: 0.4405 - val_loss: 1.7232 - val_accuracy: 0.5069\n",
            "Epoch 2/10\n",
            "21/21 [==============================] - 0s 5ms/step - loss: 1.3596 - accuracy: 0.5342 - val_loss: 1.0948 - val_accuracy: 0.5556\n",
            "Epoch 3/10\n",
            "21/21 [==============================] - 0s 5ms/step - loss: 0.9032 - accuracy: 0.6220 - val_loss: 0.6155 - val_accuracy: 0.6736\n",
            "Epoch 4/10\n",
            "21/21 [==============================] - 0s 6ms/step - loss: 0.5690 - accuracy: 0.7158 - val_loss: 0.3680 - val_accuracy: 0.8785\n",
            "Epoch 5/10\n",
            "21/21 [==============================] - 0s 8ms/step - loss: 0.4307 - accuracy: 0.7946 - val_loss: 0.2929 - val_accuracy: 0.8958\n",
            "Epoch 6/10\n",
            "21/21 [==============================] - 0s 6ms/step - loss: 0.3579 - accuracy: 0.8467 - val_loss: 0.2489 - val_accuracy: 0.9062\n",
            "Epoch 7/10\n",
            "21/21 [==============================] - 0s 6ms/step - loss: 0.3199 - accuracy: 0.8690 - val_loss: 0.2187 - val_accuracy: 0.9201\n",
            "Epoch 8/10\n",
            "21/21 [==============================] - 0s 6ms/step - loss: 0.2606 - accuracy: 0.9048 - val_loss: 0.1956 - val_accuracy: 0.9236\n",
            "Epoch 9/10\n",
            "21/21 [==============================] - 0s 5ms/step - loss: 0.2290 - accuracy: 0.9182 - val_loss: 0.1762 - val_accuracy: 0.9375\n",
            "Epoch 10/10\n",
            "21/21 [==============================] - 0s 5ms/step - loss: 0.2118 - accuracy: 0.9241 - val_loss: 0.1622 - val_accuracy: 0.9375\n",
            "13/13 [==============================] - 0s 3ms/step - loss: 0.1793 - accuracy: 0.9320\n",
            "Test Loss: 0.17926928400993347\n",
            "Test Accuracy: 0.9320388436317444\n"
          ]
        }
      ]
    },
    {
      "cell_type": "markdown",
      "source": [
        "**Observation**: After adjusting the neurons and dense layers, I achieved an accuracy of approximately 93% with a loss of 0.179. Additionally, I found that increasing the number of epochs resulted in further overfitting, so I settled on 10 training iterations."
      ],
      "metadata": {
        "id": "3TJjqQaQ3ewe"
      }
    },
    {
      "cell_type": "markdown",
      "source": [
        "## **Conclusion**\n",
        "\n",
        "During this activity, I encountered difficulties in finding a dataset that would achieve at least 85% accuracy. Despite trying numerous datasets available on platforms like UCI and data.gov, I ultimately settled on the Banknote Authentication dataset sourced from https://archive.ics.uci.edu/dataset/267/banknote+authentication.\n",
        "\n",
        "In this activity, I developed a multilayer perceptron with guidance from Nicholas Renotte's tutorial on YouTube. I utilized the Banknote Authentication dataset to predict whether a banknote is genuine or counterfeit based on features extracted from its image. I designated 'class' as the dependent variable (y) and the remaining features as independent variables (X). Subsequently, I split the data into train set (70%) and test set (30%). Employing three dense layers with ReLU and sigmoid activation functions, I fine-tuned the epoch parameters, resulting in a model accuracy of 93% with a test loss of 0.179.\n",
        "\n",
        "However, as I achieved a high accuracy rate, I became concerned about potential overfitting. Consequently, I introduced a Validation Set to the model. This addition allowed for the tuning of hyperparameters and evaluation of the model's performance during training. By incorporating a Validation Set, I aimed to mitigate overfitting by providing an independent dataset for validating the model's performance on previously unseen data.\n",
        "\n",
        "Through this activity, I gained insight into the significance of multilayer perceptrons as fundamental architectures in neural networks. Their versatility and effectiveness make them a prevalent choice in neural network applications."
      ],
      "metadata": {
        "id": "SxPTS9bhQ8da"
      }
    }
  ]
}